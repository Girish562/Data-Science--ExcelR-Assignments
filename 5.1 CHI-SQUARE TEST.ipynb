{
 "cells": [
  {
   "cell_type": "markdown",
   "id": "4a2abfe1-fe2c-4ab0-a67e-8addf15c4d7c",
   "metadata": {},
   "source": [
    "## 1. State the Hypotheses"
   ]
  },
  {
   "cell_type": "markdown",
   "id": "47182a46-a0b4-4fd4-9e15-df9afeee8ad0",
   "metadata": {},
   "source": [
    " H0: The type of smart home device (Smart Thermostat vs. Smart Light) is independent of customer satisfaction level.\n",
    " \n",
    " Ha: The type of smart home device and customer satisfaction level are associated"
   ]
  },
  {
   "cell_type": "markdown",
   "id": "140b8e84-cf32-4128-98f5-32197a3800cf",
   "metadata": {},
   "source": [
    "## 2. Compute the Chi-Square Statistic:"
   ]
  },
  {
   "cell_type": "markdown",
   "id": "30453bf3-0c4f-404b-8af8-e428e12d6d2e",
   "metadata": {},
   "source": [
    " Here Satisfaction of Smart Thermostat is represnted by set A and Smart Light by set B"
   ]
  },
  {
   "cell_type": "code",
   "execution_count": 14,
   "id": "d4b13248-3f1b-4fe5-983c-6cb094e6206b",
   "metadata": {},
   "outputs": [
    {
     "name": "stdout",
     "output_type": "stream",
     "text": [
      "48.0 72.0\n"
     ]
    }
   ],
   "source": [
    "A=[50,80,60,30,20]\n",
    "B=[70,100,90,50,50]\n",
    "## to calculate the mean of the data\n",
    "mean_a = np.mean(A)\n",
    "mean_b = np.mean(B)\n",
    "print(mean_a,mean_b)"
   ]
  },
  {
   "cell_type": "code",
   "execution_count": 1,
   "id": "ff888cf1-1d50-45c0-ac84-20f5993a9e6e",
   "metadata": {},
   "outputs": [],
   "source": [
    "import numpy as np\n",
    "import scipy.stats as stats"
   ]
  },
  {
   "cell_type": "code",
   "execution_count": null,
   "id": "0e98da03-4bd1-4d5d-8914-a1f5af3451d5",
   "metadata": {},
   "outputs": [],
   "source": [
    "# Observed frequencies\n",
    "observed = np.array([\n",
    "    [50, 70],\n",
    "    [80, 100],\n",
    "    [60, 90],\n",
    "    [30, 50],\n",
    "    [20, 50]\n",
    "])"
   ]
  },
  {
   "cell_type": "code",
   "execution_count": null,
   "id": "e4a2039e-757f-4920-bd9e-d0bcd7d6d8b8",
   "metadata": {},
   "outputs": [],
   "source": [
    "# Row and column totals\n",
    "row_totals = observed.sum(axis=1)\n",
    "col_totals = observed.sum(axis=0)\n",
    "grand_total = observed.sum()"
   ]
  },
  {
   "cell_type": "code",
   "execution_count": null,
   "id": "c8fa8c25-77e1-4f92-92a0-81fc002d4318",
   "metadata": {},
   "outputs": [],
   "source": [
    "# Expected frequencies\n",
    "expected = np.outer(row_totals, col_totals) / grand_total"
   ]
  },
  {
   "cell_type": "code",
   "execution_count": null,
   "id": "7189b97e-fa72-42b2-8dad-fcd0e09bf088",
   "metadata": {},
   "outputs": [],
   "source": [
    "# Compute Chi-Square Statistic\n",
    "chi_square_stat = ((observed - expected) ** 2 / expected).sum()"
   ]
  },
  {
   "cell_type": "code",
   "execution_count": null,
   "id": "500e417d-bb84-4ddf-8b40-4de1bfeb7661",
   "metadata": {},
   "outputs": [],
   "source": [
    "# Degrees of freedom\n",
    "rows, cols = observed.shape\n",
    "df = (rows - 1) * (cols - 1)"
   ]
  },
  {
   "cell_type": "code",
   "execution_count": null,
   "id": "97c4f8df-1661-42cf-a40e-6b6c18ed2166",
   "metadata": {},
   "outputs": [],
   "source": [
    "# Critical value at alpha = 0.05\n",
    "alpha = 0.05\n",
    "critical_value = stats.chi2.ppf(1 - alpha, df)"
   ]
  },
  {
   "cell_type": "code",
   "execution_count": null,
   "id": "3c299dc2-f8d2-41a6-997e-1a66f4be8dc8",
   "metadata": {},
   "outputs": [],
   "source": [
    "# p-value\n",
    "p_value = stats.chi2.sf(chi_square_stat, df)"
   ]
  },
  {
   "cell_type": "code",
   "execution_count": null,
   "id": "db0923cd-9eb0-4ac6-b200-452a37995e4d",
   "metadata": {},
   "outputs": [],
   "source": [
    "# Decision\n",
    "if chi_square_stat > critical_value:\n",
    "    decision = \"Reject the null hypothesis (H0).\"\n",
    "else:\n",
    "    decision = \"Fail to reject the null hypothesis (H0).\""
   ]
  },
  {
   "cell_type": "code",
   "execution_count": 6,
   "id": "2ce9c1ed-9860-4ac4-b4ee-ab05c9c477ae",
   "metadata": {},
   "outputs": [
    {
     "name": "stdout",
     "output_type": "stream",
     "text": [
      "Chi-Square Statistic: 5.64\n",
      "Degrees of Freedom: 4\n",
      "Critical Value: 9.49\n",
      "p-value: 0.2278\n",
      "Decision: Fail to reject the null hypothesis (H0).\n"
     ]
    }
   ],
   "source": [
    "# Output results\n",
    "print(\"Chi-Square Statistic:\", round(chi_square_stat, 2))\n",
    "print(\"Degrees of Freedom:\", df)\n",
    "print(\"Critical Value:\", round(critical_value, 2))\n",
    "print(\"p-value:\", round(p_value, 4))\n",
    "print(\"Decision:\", decision)"
   ]
  },
  {
   "cell_type": "markdown",
   "id": "2cc06886-a982-474e-b1c0-9fa50b31616e",
   "metadata": {},
   "source": [
    "## 3.The Critical Value Using the alpha of 0.05 and the degrees of freedom is 9.49"
   ]
  },
  {
   "cell_type": "markdown",
   "id": "a4546693-865d-46d7-8b49-c44062f7cb6d",
   "metadata": {},
   "source": [
    "## DECISION : "
   ]
  },
  {
   "cell_type": "markdown",
   "id": "09c2d37e-6576-4a42-bddc-862b8882d7b9",
   "metadata": {},
   "source": [
    "FAIL TO REJECT THE NULL HYPOTHESIS"
   ]
  },
  {
   "cell_type": "markdown",
   "id": "e4b9e168-204d-4294-bcc9-356e27e62d10",
   "metadata": {},
   "source": [
    "## Steps to Perform the  Chi-Square Statistic value"
   ]
  },
  {
   "cell_type": "markdown",
   "id": "17c8292e-5fc7-4821-acc5-4da16cecf86e",
   "metadata": {},
   "source": [
    "STEP_1: Calculate the expected frequencies for each cell using the formula:\n",
    "(Row_Total * Column_Total) / (Grand_Total)\n",
    "\n",
    "STEP_2: computing the chi-Square Statistic\n",
    "\n",
    "Step_3: Determine the critical Value:\n",
    "        The degrees of Freedom(df) are calculates as: \n",
    "            df = (number_of_rows-1) * (number_of_columns-1)\n",
    "            Alpha = 0.05\n",
    "\n",
    "STEP_4: compare the computed X Square value to the critical value\n",
    "            If X Square Value is Greater than Critical_Value then Reject H0\n",
    "            otherwise\n",
    "            Fail to Reject the H0"
   ]
  },
  {
   "cell_type": "markdown",
   "id": "01614db8-81ae-42bc-902e-2339663bcdb1",
   "metadata": {},
   "source": [
    "## Values "
   ]
  },
  {
   "cell_type": "markdown",
   "id": "fdb31395-d79f-4f2a-a048-51aafa172183",
   "metadata": {},
   "source": [
    "1. Chi-Square Statistic: 5.64\n",
    "2. Degrees of Freedom: 4\n",
    "3. Critical Value: 9.49\n",
    "4. p-value: 0.2278\n",
    "5. Decision: Fail to reject the null hypothesis (H0)."
   ]
  },
  {
   "cell_type": "markdown",
   "id": "9701ccb0-708c-44af-ba90-90b4d1715471",
   "metadata": {},
   "source": [
    "## CONCLUSION"
   ]
  },
  {
   "cell_type": "markdown",
   "id": "39feb7ca-7582-4036-a418-ca40bb3aba5d",
   "metadata": {},
   "source": [
    "After performing the Chi-Square test for independence, the results are as follows:\n",
    "1. Chi-Square Statistic (𝜒2 ): This measures the discrepancy between observed and expected frequencies.\n",
    "2. Critical Value: The value from the Chi-Square distribution table corresponding to a significance level (𝛼 = 0.05) and degrees of freedom.\n",
    "3. Decision: Comparing the (𝜒2) statistic to the critical value, we make a conclusion.\n",
    "\n",
    "Based on the analysis:\n",
    "1. We fail to reject the null hypothesis (𝐻0).\n",
    "2. This suggests there is no statistically significant association between the type of smart home device purchased and the customer satisfaction level.\n",
    "3. Interpretation: Customer satisfaction levels do not significantly differ between Smart Thermostats and Smart Lights."
   ]
  }
 ],
 "metadata": {
  "kernelspec": {
   "display_name": "Python 3 (ipykernel)",
   "language": "python",
   "name": "python3"
  },
  "language_info": {
   "codemirror_mode": {
    "name": "ipython",
    "version": 3
   },
   "file_extension": ".py",
   "mimetype": "text/x-python",
   "name": "python",
   "nbconvert_exporter": "python",
   "pygments_lexer": "ipython3",
   "version": "3.12.4"
  }
 },
 "nbformat": 4,
 "nbformat_minor": 5
}
