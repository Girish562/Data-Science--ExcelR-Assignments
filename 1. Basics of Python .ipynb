{
 "cells": [
  {
   "cell_type": "markdown",
   "id": "14d518aa-5903-4fd1-b648-7fff957dfeaa",
   "metadata": {},
   "source": [
    "## Exercise 1: Prime Numbers"
   ]
  },
  {
   "cell_type": "code",
   "execution_count": 10,
   "id": "f6f31be4-22cc-4299-8831-2de43fe3f6e8",
   "metadata": {},
   "outputs": [
    {
     "name": "stdin",
     "output_type": "stream",
     "text": [
      "Enter any number to check whether it is a prime number or not the prime number: 90\n"
     ]
    },
    {
     "name": "stdout",
     "output_type": "stream",
     "text": [
      "90 is not a prime number\n"
     ]
    }
   ],
   "source": [
    "## Getting the number from the user \n",
    "num =int(input('Enter any number to check whether it is a prime number or not the prime number:'))\n",
    "if num <2:\n",
    "    print(num, 'is not a prime number')\n",
    "else:\n",
    "    for i in range(2, num):\n",
    "        if (num % i)==0:\n",
    "            print(num,'is not a prime number')\n",
    "            break\n",
    "    else:\n",
    "        print(num, 'is a Prime number')"
   ]
  },
  {
   "cell_type": "markdown",
   "id": "6c066f44-6735-4421-9e84-95d2bda1eaad",
   "metadata": {},
   "source": [
    "## Exercise 2: Product of Random Numbers"
   ]
  },
  {
   "cell_type": "code",
   "execution_count": 12,
   "id": "8aeefce2-2274-497e-9fa2-3d76f562ef28",
   "metadata": {},
   "outputs": [
    {
     "name": "stdin",
     "output_type": "stream",
     "text": [
      "What is the product of 4 and 7?  28\n"
     ]
    },
    {
     "name": "stdout",
     "output_type": "stream",
     "text": [
      "Correct! Well done.\n"
     ]
    }
   ],
   "source": [
    "import random\n",
    "\n",
    "def main():\n",
    "    # Generate two random numbers between 1 and 10\n",
    "    num1 = random.randint(1, 10)\n",
    "    num2 = random.randint(1, 10)\n",
    "\n",
    "    # Calculate the correct product\n",
    "    correct_product = num1 * num2\n",
    "\n",
    "    # Ask the user for the product of the two numbers\n",
    "    user_answer = input(f\"What is the product of {num1} and {num2}? \")\n",
    "\n",
    "    # Check if the user's answer is a number\n",
    "    try:\n",
    "        user_answer = int(user_answer)\n",
    "    except ValueError:\n",
    "        print(\"Please enter a valid integer.\")\n",
    "        return\n",
    "\n",
    "    # Check if the user's answer is correct\n",
    "    if user_answer == correct_product:\n",
    "        print(\"Correct! Well done.\")\n",
    "    else:\n",
    "        print(f\"Incorrect. The correct answer is {correct_product}.\")\n",
    "\n",
    "# Run the program\n",
    "if __name__ == \"__main__\":\n",
    "    main()"
   ]
  },
  {
   "cell_type": "markdown",
   "id": "ed016df1-e0c6-4792-8388-3a8a41d71444",
   "metadata": {},
   "source": [
    "## Exercise 3: Squares of Even/ Odd Numbers with in the range of 100 to 200"
   ]
  },
  {
   "cell_type": "code",
   "execution_count": 23,
   "id": "ffd0e272-0850-4804-a9b8-7a143bb3281a",
   "metadata": {},
   "outputs": [
    {
     "name": "stdout",
     "output_type": "stream",
     "text": [
      "The square of 100 is 10000\n",
      "The square of 102 is 10404\n",
      "The square of 104 is 10816\n",
      "The square of 106 is 11236\n",
      "The square of 108 is 11664\n",
      "The square of 110 is 12100\n",
      "The square of 112 is 12544\n",
      "The square of 114 is 12996\n",
      "The square of 116 is 13456\n",
      "The square of 118 is 13924\n",
      "The square of 120 is 14400\n",
      "The square of 122 is 14884\n",
      "The square of 124 is 15376\n",
      "The square of 126 is 15876\n",
      "The square of 128 is 16384\n",
      "The square of 130 is 16900\n",
      "The square of 132 is 17424\n",
      "The square of 134 is 17956\n",
      "The square of 136 is 18496\n",
      "The square of 138 is 19044\n",
      "The square of 140 is 19600\n",
      "The square of 142 is 20164\n",
      "The square of 144 is 20736\n",
      "The square of 146 is 21316\n",
      "The square of 148 is 21904\n",
      "The square of 150 is 22500\n",
      "The square of 152 is 23104\n",
      "The square of 154 is 23716\n",
      "The square of 156 is 24336\n",
      "The square of 158 is 24964\n",
      "The square of 160 is 25600\n",
      "The square of 162 is 26244\n",
      "The square of 164 is 26896\n",
      "The square of 166 is 27556\n",
      "The square of 168 is 28224\n",
      "The square of 170 is 28900\n",
      "The square of 172 is 29584\n",
      "The square of 174 is 30276\n",
      "The square of 176 is 30976\n",
      "The square of 178 is 31684\n",
      "The square of 180 is 32400\n",
      "The square of 182 is 33124\n",
      "The square of 184 is 33856\n",
      "The square of 186 is 34596\n",
      "The square of 188 is 35344\n",
      "The square of 190 is 36100\n",
      "The square of 192 is 36864\n",
      "The square of 194 is 37636\n",
      "The square of 196 is 38416\n",
      "The square of 198 is 39204\n",
      "The square of 200 is 40000\n"
     ]
    }
   ],
   "source": [
    "for number in range(100,201):\n",
    "    if number % 2 == 0:\n",
    "        print(f'The square of {number} is {number**2}')"
   ]
  },
  {
   "cell_type": "markdown",
   "id": "07576cbb-47b0-4643-86ab-e36729cef08b",
   "metadata": {},
   "source": [
    "## The above code shows that all squares of the even numbers from range 100 to 200"
   ]
  },
  {
   "cell_type": "code",
   "execution_count": 24,
   "id": "4273a1bf-ab0b-4e23-9591-48439208469c",
   "metadata": {},
   "outputs": [
    {
     "name": "stdout",
     "output_type": "stream",
     "text": [
      "The square of 101 is 10201\n",
      "The square of 103 is 10609\n",
      "The square of 105 is 11025\n",
      "The square of 107 is 11449\n",
      "The square of 109 is 11881\n",
      "The square of 111 is 12321\n",
      "The square of 113 is 12769\n",
      "The square of 115 is 13225\n",
      "The square of 117 is 13689\n",
      "The square of 119 is 14161\n",
      "The square of 121 is 14641\n",
      "The square of 123 is 15129\n",
      "The square of 125 is 15625\n",
      "The square of 127 is 16129\n",
      "The square of 129 is 16641\n",
      "The square of 131 is 17161\n",
      "The square of 133 is 17689\n",
      "The square of 135 is 18225\n",
      "The square of 137 is 18769\n",
      "The square of 139 is 19321\n",
      "The square of 141 is 19881\n",
      "The square of 143 is 20449\n",
      "The square of 145 is 21025\n",
      "The square of 147 is 21609\n",
      "The square of 149 is 22201\n",
      "The square of 151 is 22801\n",
      "The square of 153 is 23409\n",
      "The square of 155 is 24025\n",
      "The square of 157 is 24649\n",
      "The square of 159 is 25281\n",
      "The square of 161 is 25921\n",
      "The square of 163 is 26569\n",
      "The square of 165 is 27225\n",
      "The square of 167 is 27889\n",
      "The square of 169 is 28561\n",
      "The square of 171 is 29241\n",
      "The square of 173 is 29929\n",
      "The square of 175 is 30625\n",
      "The square of 177 is 31329\n",
      "The square of 179 is 32041\n",
      "The square of 181 is 32761\n",
      "The square of 183 is 33489\n",
      "The square of 185 is 34225\n",
      "The square of 187 is 34969\n",
      "The square of 189 is 35721\n",
      "The square of 191 is 36481\n",
      "The square of 193 is 37249\n",
      "The square of 195 is 38025\n",
      "The square of 197 is 38809\n",
      "The square of 199 is 39601\n"
     ]
    }
   ],
   "source": [
    "for number in range(100,201):\n",
    "    if number % 2 != 0:\n",
    "        print(f'The square of {number} is {number**2}')"
   ]
  },
  {
   "cell_type": "markdown",
   "id": "2963ab78-d3dc-4b70-8dbd-c09c258897a7",
   "metadata": {},
   "source": [
    "## Exercise 4: Count the number of word in the given text"
   ]
  },
  {
   "cell_type": "code",
   "execution_count": 9,
   "id": "24c6a378-a82a-49fd-9b36-1d6b28e8b324",
   "metadata": {},
   "outputs": [
    {
     "name": "stdin",
     "output_type": "stream",
     "text": [
      "Please enter the text:  Hello world, welcome to python\n"
     ]
    },
    {
     "name": "stdout",
     "output_type": "stream",
     "text": [
      "The number of words in the text is: 5\n"
     ]
    }
   ],
   "source": [
    "def count_words(text):\n",
    "    # Split the text into words using whitespace as the delimiter\n",
    "    words = text.split()\n",
    "    # Return the number of words\n",
    "    return len(words)\n",
    "\n",
    "# Get input from the user\n",
    "input_text = input(\"Please enter the text: \")\n",
    "\n",
    "# Count the words in the input text\n",
    "word_count = count_words(input_text)\n",
    "\n",
    "# Print the result\n",
    "print(f\"The number of words in the text is: {word_count}\")"
   ]
  },
  {
   "cell_type": "markdown",
   "id": "5085709e-213f-4d38-bbd0-936cf0497f04",
   "metadata": {},
   "source": [
    "## Exercise 5:Check for Palindrome"
   ]
  },
  {
   "cell_type": "code",
   "execution_count": 9,
   "id": "2106cc7e-ab55-4afe-98aa-068e9f222f7f",
   "metadata": {},
   "outputs": [
    {
     "name": "stdin",
     "output_type": "stream",
     "text": [
      "Enter the String: MALAYALAM\n"
     ]
    },
    {
     "name": "stdout",
     "output_type": "stream",
     "text": [
      "True\n"
     ]
    }
   ],
   "source": [
    "str=input('Enter the String:')\n",
    "rev_str=''\n",
    "\n",
    "for char in str:\n",
    "    rev_str=char+rev_str\n",
    "\n",
    "if str==rev_str:\n",
    "    print('True')\n",
    "else:\n",
    "    print('Flase')"
   ]
  },
  {
   "cell_type": "code",
   "execution_count": 11,
   "id": "7473a9bd-8fa3-4e8f-8b86-1aae3a99e5e0",
   "metadata": {},
   "outputs": [
    {
     "name": "stdin",
     "output_type": "stream",
     "text": [
      "Enter the String: MADAM\n"
     ]
    },
    {
     "name": "stdout",
     "output_type": "stream",
     "text": [
      "True\n"
     ]
    }
   ],
   "source": [
    "str=input('Enter the String:')\n",
    "rev_str=''\n",
    "\n",
    "for char in str:\n",
    "    rev_str=char+rev_str\n",
    "\n",
    "if str==rev_str:\n",
    "    print('True')\n",
    "else:\n",
    "    print('Flase')"
   ]
  }
 ],
 "metadata": {
  "kernelspec": {
   "display_name": "Python 3 (ipykernel)",
   "language": "python",
   "name": "python3"
  },
  "language_info": {
   "codemirror_mode": {
    "name": "ipython",
    "version": 3
   },
   "file_extension": ".py",
   "mimetype": "text/x-python",
   "name": "python",
   "nbconvert_exporter": "python",
   "pygments_lexer": "ipython3",
   "version": "3.12.4"
  }
 },
 "nbformat": 4,
 "nbformat_minor": 5
}
